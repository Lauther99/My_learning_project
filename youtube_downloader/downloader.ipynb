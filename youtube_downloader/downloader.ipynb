{
 "cells": [
  {
   "cell_type": "code",
   "execution_count": 4,
   "metadata": {},
   "outputs": [],
   "source": [
    "# %pip install pytube moviepy\n",
    "# https://twitter.com/ivancastl/status/1811123747052736818"
   ]
  },
  {
   "cell_type": "code",
   "execution_count": 1,
   "metadata": {},
   "outputs": [],
   "source": [
    "from moviepy.editor import *\n",
    "from pytube import Playlist, YouTube\n",
    "import yt_dlp"
   ]
  },
  {
   "cell_type": "code",
   "execution_count": 5,
   "metadata": {},
   "outputs": [],
   "source": [
    "def download_video(url, output_path=\"video.mp4\"):\n",
    "    params={\n",
    "        \"format\": \"best\",\n",
    "        \"outtmpl:\": output_path\n",
    "    }\n",
    "    with yt_dlp.YoutubeDL(params) as ydl:\n",
    "        ydl.download([url])\n",
    "    print(f\"Descargando: {output_path}\")\n",
    "    return output_path\n",
    "\n",
    "def convert_mp4_to_mp3(input_path, output_path=\"audio.mp3\"):\n",
    "    video = VideoFileClip(filename=input_path)\n",
    "    audio = video.audio\n",
    "    audio.write_audiofile(output_path)\n",
    "    print(f\"Convertido: {output_path}\")\n",
    "    \n"
   ]
  },
  {
   "cell_type": "code",
   "execution_count": null,
   "metadata": {},
   "outputs": [],
   "source": [
    "url = \"https://www.youtube.com/watch?v=Xv1vHUW_02M\"\n",
    "videopath=\"video.mp4\"\n",
    "audiopath=\"audio.mp3\"\n",
    "\n",
    "dwnld=download_video(url, videopath)"
   ]
  },
  {
   "cell_type": "code",
   "execution_count": 8,
   "metadata": {},
   "outputs": [
    {
     "data": {
      "text/plain": [
       "'video.mp4'"
      ]
     },
     "execution_count": 8,
     "metadata": {},
     "output_type": "execute_result"
    }
   ],
   "source": [
    "dwnld"
   ]
  },
  {
   "cell_type": "code",
   "execution_count": null,
   "metadata": {},
   "outputs": [],
   "source": [
    "convert_mp4_to_mp3(dwnld, audiopath)\n"
   ]
  }
 ],
 "metadata": {
  "kernelspec": {
   "display_name": "venv",
   "language": "python",
   "name": "python3"
  },
  "language_info": {
   "codemirror_mode": {
    "name": "ipython",
    "version": 3
   },
   "file_extension": ".py",
   "mimetype": "text/x-python",
   "name": "python",
   "nbconvert_exporter": "python",
   "pygments_lexer": "ipython3",
   "version": "3.11.5"
  }
 },
 "nbformat": 4,
 "nbformat_minor": 2
}
