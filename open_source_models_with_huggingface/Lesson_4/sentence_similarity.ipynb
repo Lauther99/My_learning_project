{
 "cells": [
  {
   "cell_type": "code",
   "execution_count": 2,
   "metadata": {},
   "outputs": [],
   "source": [
    "import sys\n",
    "sys.path.append(\"C:\\\\Users\\\\lauth\\\\OneDrive\\\\Desktop\\\\hola\\\\My_learning_project\\\\open_source_models_with_huggingface\")"
   ]
  },
  {
   "cell_type": "code",
   "execution_count": 14,
   "metadata": {},
   "outputs": [],
   "source": [
    "import requests\n",
    "from settings.settings import HF_KEY\n",
    "\n",
    "API_URL = (\n",
    "    \"https://api-inference.huggingface.co/models/sentence-transformers/all-MiniLM-L6-v2\"\n",
    ")\n",
    "headers = {\"Authorization\": f\"Bearer {HF_KEY}\"}\n",
    "\n",
    "\n",
    "def similarity(source_sentence, sentences):\n",
    "    payload = {\n",
    "        \"inputs\": {\n",
    "            \"source_sentence\": source_sentence,\n",
    "            \"sentences\": sentences\n",
    "        },\n",
    "    }\n",
    "    response = requests.post(API_URL, headers=headers, json=payload)\n",
    "    return response.json()\n",
    "\n"
   ]
  },
  {
   "cell_type": "code",
   "execution_count": 19,
   "metadata": {},
   "outputs": [],
   "source": [
    "source_sentence = \"A woman watches TV\"\n",
    "sentences = ['The cat sits outside',\n",
    "              'A man is playing guitar',\n",
    "              'The movies are awesome']\n",
    "\n",
    "output = similarity(source_sentence, sentences)"
   ]
  },
  {
   "cell_type": "code",
   "execution_count": 20,
   "metadata": {},
   "outputs": [
    {
     "name": "stdout",
     "output_type": "stream",
     "text": [
      "[0.13100725412368774, -0.03272593021392822, -0.04650282859802246]\n"
     ]
    }
   ],
   "source": [
    "print(output)"
   ]
  },
  {
   "cell_type": "code",
   "execution_count": 17,
   "metadata": {},
   "outputs": [],
   "source": [
    "source_sentence = \"The cat sits outside\"\n",
    "sentences = ['The dog plays in the garden',\n",
    "              'A woman watches TV',\n",
    "              'The new movie is so great']\n",
    "\n",
    "output = similarity(source_sentence, sentences)"
   ]
  },
  {
   "cell_type": "code",
   "execution_count": 18,
   "metadata": {},
   "outputs": [
    {
     "name": "stdout",
     "output_type": "stream",
     "text": [
      "[0.28375497460365295, 0.13100723922252655, -0.002861582674086094]\n"
     ]
    }
   ],
   "source": [
    "print(output)\n"
   ]
  }
 ],
 "metadata": {
  "kernelspec": {
   "display_name": "venv",
   "language": "python",
   "name": "python3"
  },
  "language_info": {
   "codemirror_mode": {
    "name": "ipython",
    "version": 3
   },
   "file_extension": ".py",
   "mimetype": "text/x-python",
   "name": "python",
   "nbconvert_exporter": "python",
   "pygments_lexer": "ipython3",
   "version": "3.11.5"
  }
 },
 "nbformat": 4,
 "nbformat_minor": 2
}
